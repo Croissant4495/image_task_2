{
 "cells": [
  {
   "cell_type": "markdown",
   "metadata": {},
   "source": [
    "# Prequisites"
   ]
  },
  {
   "cell_type": "code",
   "execution_count": 1,
   "metadata": {},
   "outputs": [],
   "source": [
    "import cv2\n",
    "import numpy as np\n",
    "import matplotlib.pyplot as plt\n",
    "\n",
    "def display_img(img):\n",
    "    new_img= cv2.cvtColor(img, cv2.COLOR_BGR2RGB)\n",
    "    plt.imshow(new_img)\n",
    "    plt.show()"
   ]
  },
  {
   "cell_type": "markdown",
   "metadata": {},
   "source": [
    "# Task 1"
   ]
  },
  {
   "cell_type": "code",
   "execution_count": 12,
   "metadata": {},
   "outputs": [
    {
     "name": "stdout",
     "output_type": "stream",
     "text": [
      "Finished\n"
     ]
    }
   ],
   "source": [
    "capture = cv2.VideoCapture(\"./assets/Video1.mp4\")\n",
    "while True:\n",
    "    ret, frame = capture.read()\n",
    "    if ret:\n",
    "        hsv_frame = cv2.cvtColor(frame, cv2.COLOR_BGR2HSV)\n",
    "        # extract blue\n",
    "        hsv_lower = np.array([110, 190, 170])\n",
    "        hsv_upper = np.array([130, 240, 190])\n",
    "        extracted_image = cv2.inRange(hsv_frame, hsv_lower, hsv_upper)\n",
    "        # threshold extracted image to turn to mask\n",
    "        ret, mask = cv2.threshold(extracted_image, 127, 255, 0)\n",
    "        picture = cv2.bitwise_and(frame, frame, mask=mask)\n",
    "        cv2.imshow('image', picture)\n",
    "        cv2.imshow(\"original\", frame)\n",
    "        if cv2.waitKey(20) == ord('q'):\n",
    "            break\n",
    "\n",
    "    else:\n",
    "        break\n",
    "print(\"Finished\")\n",
    "capture.release()\n",
    "cv2.destroyAllWindows()\n",
    "    \n",
    "\n",
    "\n"
   ]
  },
  {
   "cell_type": "markdown",
   "metadata": {},
   "source": [
    "# Task 2"
   ]
  },
  {
   "cell_type": "code",
   "execution_count": null,
   "metadata": {},
   "outputs": [],
   "source": []
  },
  {
   "cell_type": "code",
   "execution_count": null,
   "metadata": {},
   "outputs": [],
   "source": []
  },
  {
   "cell_type": "code",
   "execution_count": null,
   "metadata": {},
   "outputs": [],
   "source": []
  }
 ],
 "metadata": {
  "kernelspec": {
   "display_name": "Python 3",
   "language": "python",
   "name": "python3"
  },
  "language_info": {
   "codemirror_mode": {
    "name": "ipython",
    "version": 3
   },
   "file_extension": ".py",
   "mimetype": "text/x-python",
   "name": "python",
   "nbconvert_exporter": "python",
   "pygments_lexer": "ipython3",
   "version": "3.9.13"
  },
  "orig_nbformat": 4
 },
 "nbformat": 4,
 "nbformat_minor": 2
}
